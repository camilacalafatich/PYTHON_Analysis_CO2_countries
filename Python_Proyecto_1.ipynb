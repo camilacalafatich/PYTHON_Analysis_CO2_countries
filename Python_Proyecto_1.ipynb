{
 "cells": [
  {
   "cell_type": "markdown",
   "id": "02fb3549",
   "metadata": {},
   "source": [
    " ## Proyecto 1"
   ]
  },
  {
   "cell_type": "markdown",
   "id": "85edbe67",
   "metadata": {},
   "source": [
    "### Análisis de producción de CO2 por país"
   ]
  },
  {
   "cell_type": "code",
   "execution_count": 277,
   "id": "37da00ad",
   "metadata": {},
   "outputs": [],
   "source": [
    "import json"
   ]
  },
  {
   "cell_type": "code",
   "execution_count": 278,
   "id": "e9230cf6",
   "metadata": {},
   "outputs": [],
   "source": [
    "with open('Data_CO2_Proyecto_1.json') as f:\n",
    "    data = json.load(f)\n",
    "    \n",
    "data;"
   ]
  },
  {
   "cell_type": "markdown",
   "id": "5ccd1d63",
   "metadata": {},
   "source": [
    "###  Exploración de data "
   ]
  },
  {
   "cell_type": "code",
   "execution_count": 279,
   "id": "f2b9e9fc",
   "metadata": {},
   "outputs": [
    {
     "data": {
      "text/plain": [
       "dict"
      ]
     },
     "execution_count": 279,
     "metadata": {},
     "output_type": "execute_result"
    }
   ],
   "source": [
    "type(data)"
   ]
  },
  {
   "cell_type": "code",
   "execution_count": 280,
   "id": "47f587f5",
   "metadata": {},
   "outputs": [
    {
     "data": {
      "text/plain": [
       "list"
      ]
     },
     "execution_count": 280,
     "metadata": {},
     "output_type": "execute_result"
    }
   ],
   "source": [
    "type(data['Country'])"
   ]
  },
  {
   "cell_type": "code",
   "execution_count": 281,
   "id": "ac166baa",
   "metadata": {},
   "outputs": [
    {
     "data": {
      "text/plain": [
       "dict_keys(['Country', 'ISO 3166-1 alpha-3', 'Year', 'Total', 'Coal', 'Oil', 'Gas', 'Cement', 'Flaring', 'Other', 'Per Capita'])"
      ]
     },
     "execution_count": 281,
     "metadata": {},
     "output_type": "execute_result"
    }
   ],
   "source": [
    "data.keys()"
   ]
  },
  {
   "cell_type": "code",
   "execution_count": 282,
   "id": "b695b07c",
   "metadata": {},
   "outputs": [
    {
     "data": {
      "text/plain": [
       "11"
      ]
     },
     "execution_count": 282,
     "metadata": {},
     "output_type": "execute_result"
    }
   ],
   "source": [
    "len(data.keys())"
   ]
  },
  {
   "cell_type": "code",
   "execution_count": 283,
   "id": "4c26ab55",
   "metadata": {},
   "outputs": [],
   "source": [
    "data.values();"
   ]
  },
  {
   "cell_type": "code",
   "execution_count": 284,
   "id": "83d45dc0",
   "metadata": {},
   "outputs": [],
   "source": [
    "data['Country'];"
   ]
  },
  {
   "cell_type": "code",
   "execution_count": 285,
   "id": "d07a0e0b",
   "metadata": {},
   "outputs": [],
   "source": [
    "data['ISO 3166-1 alpha-3'];"
   ]
  },
  {
   "cell_type": "markdown",
   "id": "1fd1b431",
   "metadata": {},
   "source": [
    "## Exploramos 'Country' e 'ISO 3166-1 alpha-3' para saber si son equivalentes."
   ]
  },
  {
   "cell_type": "markdown",
   "id": "8691947f",
   "metadata": {},
   "source": [
    "#### Decido usar la columna 'Country' por sobre 'Contry_Code' (antigua 'ISO 3166-1 alpha-3') porque 'Country_Code' tiene menos valores únicos y he localizado varios ceros que corresponden con los paises \"French Equatorial Africa\", \"French West Africa\", \"Kuwaiti Oil Fires\", \"Leeward Islands\", \"Pacific Islands (Palau)\", \"Ryukyu Islands\"."
   ]
  },
  {
   "cell_type": "code",
   "execution_count": 286,
   "id": "4f01f457",
   "metadata": {},
   "outputs": [],
   "source": [
    "data['Country_Code'] = data['ISO 3166-1 alpha-3']"
   ]
  },
  {
   "cell_type": "code",
   "execution_count": 287,
   "id": "3393d477",
   "metadata": {
    "scrolled": true
   },
   "outputs": [],
   "source": [
    "data['Country_Code'];"
   ]
  },
  {
   "cell_type": "code",
   "execution_count": 288,
   "id": "771cb191",
   "metadata": {},
   "outputs": [
    {
     "data": {
      "text/plain": [
       "dict_keys(['Country', 'ISO 3166-1 alpha-3', 'Year', 'Total', 'Coal', 'Oil', 'Gas', 'Cement', 'Flaring', 'Other', 'Per Capita', 'Country_Code'])"
      ]
     },
     "execution_count": 288,
     "metadata": {},
     "output_type": "execute_result"
    }
   ],
   "source": [
    "data.keys()"
   ]
  },
  {
   "cell_type": "code",
   "execution_count": 289,
   "id": "034f069f",
   "metadata": {},
   "outputs": [],
   "source": [
    "del data['ISO 3166-1 alpha-3']"
   ]
  },
  {
   "cell_type": "code",
   "execution_count": 290,
   "id": "cc25749d",
   "metadata": {},
   "outputs": [
    {
     "data": {
      "text/plain": [
       "dict_keys(['Country', 'Year', 'Total', 'Coal', 'Oil', 'Gas', 'Cement', 'Flaring', 'Other', 'Per Capita', 'Country_Code'])"
      ]
     },
     "execution_count": 290,
     "metadata": {},
     "output_type": "execute_result"
    }
   ],
   "source": [
    "data.keys()"
   ]
  },
  {
   "cell_type": "code",
   "execution_count": 291,
   "id": "97570c85",
   "metadata": {},
   "outputs": [],
   "source": [
    "set(data['Country']);"
   ]
  },
  {
   "cell_type": "code",
   "execution_count": 292,
   "id": "5e1835de",
   "metadata": {},
   "outputs": [],
   "source": [
    "set(data['Country_Code']);"
   ]
  },
  {
   "cell_type": "code",
   "execution_count": 293,
   "id": "826f905f",
   "metadata": {},
   "outputs": [
    {
     "data": {
      "text/plain": [
       "232"
      ]
     },
     "execution_count": 293,
     "metadata": {},
     "output_type": "execute_result"
    }
   ],
   "source": [
    "len(set(data['Country']))"
   ]
  },
  {
   "cell_type": "code",
   "execution_count": 294,
   "id": "841fc45a",
   "metadata": {},
   "outputs": [
    {
     "data": {
      "text/plain": [
       "226"
      ]
     },
     "execution_count": 294,
     "metadata": {},
     "output_type": "execute_result"
    }
   ],
   "source": [
    "len(set(data['Country_Code']))"
   ]
  },
  {
   "cell_type": "code",
   "execution_count": 295,
   "id": "fd0b3e6e",
   "metadata": {},
   "outputs": [
    {
     "data": {
      "text/plain": [
       "<zip at 0x22d11f132c0>"
      ]
     },
     "execution_count": 295,
     "metadata": {},
     "output_type": "execute_result"
    }
   ],
   "source": [
    "zip(data['Country'],data['Country_Code'])"
   ]
  },
  {
   "cell_type": "code",
   "execution_count": 296,
   "id": "94b031db",
   "metadata": {},
   "outputs": [],
   "source": [
    "diccionario_paises=dict(zip(data['Country'],data['Country_Code']))"
   ]
  },
  {
   "cell_type": "code",
   "execution_count": 297,
   "id": "28f6faeb",
   "metadata": {},
   "outputs": [
    {
     "data": {
      "text/plain": [
       "232"
      ]
     },
     "execution_count": 297,
     "metadata": {},
     "output_type": "execute_result"
    }
   ],
   "source": [
    "len(dict(zip(data['Country'],data['Country_Code'])))"
   ]
  },
  {
   "cell_type": "code",
   "execution_count": 298,
   "id": "3c1c6eb4",
   "metadata": {},
   "outputs": [
    {
     "data": {
      "text/plain": [
       "<zip at 0x22d18ea8680>"
      ]
     },
     "execution_count": 298,
     "metadata": {},
     "output_type": "execute_result"
    }
   ],
   "source": [
    "zip(data['Country_Code'],data['Country'])"
   ]
  },
  {
   "cell_type": "code",
   "execution_count": 299,
   "id": "5ef670dc",
   "metadata": {},
   "outputs": [],
   "source": [
    "diccionario_codigos=dict(zip(data['Country_Code'],data['Country']))"
   ]
  },
  {
   "cell_type": "code",
   "execution_count": 300,
   "id": "5269d875",
   "metadata": {},
   "outputs": [
    {
     "data": {
      "text/plain": [
       "'Ryukyu Islands'"
      ]
     },
     "execution_count": 300,
     "metadata": {},
     "output_type": "execute_result"
    }
   ],
   "source": [
    "diccionario_codigos[0]"
   ]
  },
  {
   "cell_type": "code",
   "execution_count": 301,
   "id": "72001a4e",
   "metadata": {},
   "outputs": [
    {
     "name": "stdout",
     "output_type": "stream",
     "text": [
      "French Equatorial Africa 0\n",
      "French West Africa 0\n",
      "Kuwaiti Oil Fires 0\n",
      "Leeward Islands 0\n",
      "Pacific Islands (Palau) 0\n",
      "Ryukyu Islands 0\n"
     ]
    }
   ],
   "source": [
    "for key, value in diccionario_paises.items():\n",
    "    if value == 0:\n",
    "        print(key, value)"
   ]
  },
  {
   "cell_type": "markdown",
   "id": "90ee32ff",
   "metadata": {},
   "source": [
    "## Exploración de 'Year'"
   ]
  },
  {
   "cell_type": "code",
   "execution_count": 302,
   "id": "5a9c8d26",
   "metadata": {},
   "outputs": [],
   "source": [
    "data['Year'];"
   ]
  },
  {
   "cell_type": "code",
   "execution_count": 303,
   "id": "5ee9aeef",
   "metadata": {},
   "outputs": [
    {
     "data": {
      "text/plain": [
       "list"
      ]
     },
     "execution_count": 303,
     "metadata": {},
     "output_type": "execute_result"
    }
   ],
   "source": [
    "type(data['Year'])"
   ]
  },
  {
   "cell_type": "code",
   "execution_count": 304,
   "id": "9987d60f",
   "metadata": {},
   "outputs": [
    {
     "data": {
      "text/plain": [
       "63104"
      ]
     },
     "execution_count": 304,
     "metadata": {},
     "output_type": "execute_result"
    }
   ],
   "source": [
    "len((data['Year']))"
   ]
  },
  {
   "cell_type": "code",
   "execution_count": 305,
   "id": "f4cccbc6",
   "metadata": {},
   "outputs": [
    {
     "data": {
      "text/plain": [
       "272"
      ]
     },
     "execution_count": 305,
     "metadata": {},
     "output_type": "execute_result"
    }
   ],
   "source": [
    "len(set(data['Year']))"
   ]
  },
  {
   "cell_type": "code",
   "execution_count": 306,
   "id": "465c8d59",
   "metadata": {},
   "outputs": [
    {
     "data": {
      "text/plain": [
       "2021"
      ]
     },
     "execution_count": 306,
     "metadata": {},
     "output_type": "execute_result"
    }
   ],
   "source": [
    "max(set(data['Year']))"
   ]
  },
  {
   "cell_type": "code",
   "execution_count": 307,
   "id": "906387b5",
   "metadata": {},
   "outputs": [
    {
     "data": {
      "text/plain": [
       "1750"
      ]
     },
     "execution_count": 307,
     "metadata": {},
     "output_type": "execute_result"
    }
   ],
   "source": [
    "min(set(data['Year']))"
   ]
  },
  {
   "cell_type": "code",
   "execution_count": 308,
   "id": "d4de51e4",
   "metadata": {
    "scrolled": true
   },
   "outputs": [
    {
     "data": {
      "text/plain": [
       "271"
      ]
     },
     "execution_count": 308,
     "metadata": {},
     "output_type": "execute_result"
    }
   ],
   "source": [
    "max(set(data['Year']))-min(set(data['Year'])) #Son años consecutivos xq la resta quita uno de los extremos."
   ]
  },
  {
   "cell_type": "markdown",
   "id": "85fb3802",
   "metadata": {},
   "source": [
    "## Exploración de las dimensiones de nuestros datos"
   ]
  },
  {
   "cell_type": "code",
   "execution_count": 309,
   "id": "70387fde",
   "metadata": {},
   "outputs": [
    {
     "data": {
      "text/plain": [
       "63104"
      ]
     },
     "execution_count": 309,
     "metadata": {},
     "output_type": "execute_result"
    }
   ],
   "source": [
    "len((data['Country']))"
   ]
  },
  {
   "cell_type": "code",
   "execution_count": 310,
   "id": "b0f8b3a1",
   "metadata": {},
   "outputs": [
    {
     "data": {
      "text/plain": [
       "63104"
      ]
     },
     "execution_count": 310,
     "metadata": {},
     "output_type": "execute_result"
    }
   ],
   "source": [
    "len((data['Year']))"
   ]
  },
  {
   "cell_type": "code",
   "execution_count": 311,
   "id": "8d8d0655",
   "metadata": {},
   "outputs": [
    {
     "data": {
      "text/plain": [
       "232"
      ]
     },
     "execution_count": 311,
     "metadata": {},
     "output_type": "execute_result"
    }
   ],
   "source": [
    "len(set(data['Country']))"
   ]
  },
  {
   "cell_type": "code",
   "execution_count": 312,
   "id": "afb52060",
   "metadata": {},
   "outputs": [
    {
     "data": {
      "text/plain": [
       "272"
      ]
     },
     "execution_count": 312,
     "metadata": {},
     "output_type": "execute_result"
    }
   ],
   "source": [
    "len(set(data['Year']))"
   ]
  },
  {
   "cell_type": "code",
   "execution_count": 313,
   "id": "d555f5b9",
   "metadata": {},
   "outputs": [
    {
     "data": {
      "text/plain": [
       "63104"
      ]
     },
     "execution_count": 313,
     "metadata": {},
     "output_type": "execute_result"
    }
   ],
   "source": [
    "232*272"
   ]
  },
  {
   "cell_type": "code",
   "execution_count": 314,
   "id": "7a9f5224",
   "metadata": {},
   "outputs": [
    {
     "data": {
      "text/plain": [
       "11"
      ]
     },
     "execution_count": 314,
     "metadata": {},
     "output_type": "execute_result"
    }
   ],
   "source": [
    "len(data.keys())"
   ]
  },
  {
   "cell_type": "code",
   "execution_count": 315,
   "id": "25a14e56",
   "metadata": {},
   "outputs": [
    {
     "data": {
      "text/plain": [
       "694144"
      ]
     },
     "execution_count": 315,
     "metadata": {},
     "output_type": "execute_result"
    }
   ],
   "source": [
    "#Cantidad de datos en mi dataset.\n",
    "232*272*11 "
   ]
  },
  {
   "cell_type": "code",
   "execution_count": 316,
   "id": "643710f2",
   "metadata": {},
   "outputs": [
    {
     "data": {
      "text/plain": [
       "11"
      ]
     },
     "execution_count": 316,
     "metadata": {},
     "output_type": "execute_result"
    }
   ],
   "source": [
    "len(data.keys())"
   ]
  },
  {
   "cell_type": "markdown",
   "id": "75a0323a",
   "metadata": {},
   "source": [
    "## Exploración de 'Total'"
   ]
  },
  {
   "cell_type": "code",
   "execution_count": 317,
   "id": "77325825",
   "metadata": {},
   "outputs": [],
   "source": [
    "data['Total'];"
   ]
  },
  {
   "cell_type": "code",
   "execution_count": 318,
   "id": "a4b377ab",
   "metadata": {},
   "outputs": [
    {
     "data": {
      "text/plain": [
       "list"
      ]
     },
     "execution_count": 318,
     "metadata": {},
     "output_type": "execute_result"
    }
   ],
   "source": [
    "type(data['Total'])"
   ]
  },
  {
   "cell_type": "code",
   "execution_count": 319,
   "id": "edbf258a",
   "metadata": {},
   "outputs": [
    {
     "data": {
      "text/plain": [
       "float"
      ]
     },
     "execution_count": 319,
     "metadata": {},
     "output_type": "execute_result"
    }
   ],
   "source": [
    "#Puedo decir que no son 'nulos' sino ceros auténticos.\n",
    "\n",
    "type(data['Total'][0])"
   ]
  },
  {
   "cell_type": "code",
   "execution_count": 320,
   "id": "e154760b",
   "metadata": {},
   "outputs": [
    {
     "data": {
      "text/plain": [
       "0.113227"
      ]
     },
     "execution_count": 320,
     "metadata": {},
     "output_type": "execute_result"
    }
   ],
   "source": [
    "(data['Total'][726])"
   ]
  },
  {
   "cell_type": "code",
   "execution_count": 321,
   "id": "769c3de9",
   "metadata": {},
   "outputs": [],
   "source": [
    "lista = 'Coal', 'Oil', 'Gas', 'Cement', 'Flaring', 'Other'"
   ]
  },
  {
   "cell_type": "code",
   "execution_count": 322,
   "id": "a9b0598d",
   "metadata": {
    "scrolled": true
   },
   "outputs": [
    {
     "name": "stdout",
     "output_type": "stream",
     "text": [
      "0.113227\n"
     ]
    }
   ],
   "source": [
    "lista = ['Coal', 'Oil', 'Gas', 'Cement', 'Flaring', 'Other']\n",
    "variable = 0\n",
    "\n",
    "for i in lista:\n",
    "    variable += data[i][726]\n",
    "    \n",
    "print(variable)"
   ]
  },
  {
   "cell_type": "markdown",
   "id": "2c7da1bb",
   "metadata": {},
   "source": [
    "## Exploración sobre la estructura de 'Country'"
   ]
  },
  {
   "cell_type": "markdown",
   "id": "19559e7d",
   "metadata": {},
   "source": [
    "Queremos localizar los valores necesarios para hacer un slicing de cada uno de los países.\n",
    "\n",
    "Para ello hemos creado un listado de países únicos que mantiene la ordenación original de los datos.\n",
    "\n",
    "Y también un diccionario (países_enumerados) que tiene como claves éstos países únicos y como valores la posición que ocupa cada uno de los países en los datos.\n",
    "\n",
    "Hemos detectado también la existencia de un país llamdo 'Global' que quizás contenga datos globales (de todos los países)"
   ]
  },
  {
   "cell_type": "code",
   "execution_count": 323,
   "id": "cabbdf5c",
   "metadata": {},
   "outputs": [],
   "source": [
    "paises_unicos = list(dict.fromkeys(data['Country']))"
   ]
  },
  {
   "cell_type": "code",
   "execution_count": 324,
   "id": "645dda6a",
   "metadata": {},
   "outputs": [
    {
     "data": {
      "text/plain": [
       "232"
      ]
     },
     "execution_count": 324,
     "metadata": {},
     "output_type": "execute_result"
    }
   ],
   "source": [
    "len(paises_unicos)"
   ]
  },
  {
   "cell_type": "code",
   "execution_count": 325,
   "id": "c01810b0",
   "metadata": {},
   "outputs": [
    {
     "data": {
      "text/plain": [
       "'Global'"
      ]
     },
     "execution_count": 325,
     "metadata": {},
     "output_type": "execute_result"
    }
   ],
   "source": [
    "paises_unicos[-1]"
   ]
  },
  {
   "cell_type": "code",
   "execution_count": 326,
   "id": "a56389f6",
   "metadata": {},
   "outputs": [],
   "source": [
    "paises_enumerados = zip(paises_unicos, range(272))"
   ]
  },
  {
   "cell_type": "code",
   "execution_count": 327,
   "id": "3e1085d5",
   "metadata": {},
   "outputs": [
    {
     "data": {
      "text/plain": [
       "<zip at 0x22d18ebf000>"
      ]
     },
     "execution_count": 327,
     "metadata": {},
     "output_type": "execute_result"
    }
   ],
   "source": [
    "paises_enumerados"
   ]
  },
  {
   "cell_type": "code",
   "execution_count": 328,
   "id": "fd930027",
   "metadata": {},
   "outputs": [],
   "source": [
    "paises_enumerados = dict(paises_enumerados)"
   ]
  },
  {
   "cell_type": "code",
   "execution_count": 329,
   "id": "26aa68ec",
   "metadata": {},
   "outputs": [],
   "source": [
    "paises_enumerados;"
   ]
  },
  {
   "cell_type": "code",
   "execution_count": 330,
   "id": "1c2c2b63",
   "metadata": {},
   "outputs": [
    {
     "data": {
      "text/plain": [
       "220"
      ]
     },
     "execution_count": 330,
     "metadata": {},
     "output_type": "execute_result"
    }
   ],
   "source": [
    "paises_enumerados['USA']"
   ]
  },
  {
   "cell_type": "code",
   "execution_count": 331,
   "id": "cfd9c648",
   "metadata": {},
   "outputs": [
    {
     "data": {
      "text/plain": [
       "'USA'"
      ]
     },
     "execution_count": 331,
     "metadata": {},
     "output_type": "execute_result"
    }
   ],
   "source": [
    "data['Country'][220*272]"
   ]
  },
  {
   "cell_type": "code",
   "execution_count": 332,
   "id": "78e17eb0",
   "metadata": {},
   "outputs": [],
   "source": [
    "data['Country'][(220*272):((220*272)+272)];"
   ]
  },
  {
   "cell_type": "code",
   "execution_count": 333,
   "id": "e3a499ef",
   "metadata": {},
   "outputs": [
    {
     "data": {
      "text/plain": [
       "272"
      ]
     },
     "execution_count": 333,
     "metadata": {},
     "output_type": "execute_result"
    }
   ],
   "source": [
    "len(data['Country'][(220*272):((220*272)+272)])"
   ]
  },
  {
   "cell_type": "markdown",
   "id": "745aeb04",
   "metadata": {},
   "source": [
    "## Creamos la función para el cálculo del Slicing"
   ]
  },
  {
   "cell_type": "code",
   "execution_count": 334,
   "id": "a65090d4",
   "metadata": {},
   "outputs": [
    {
     "data": {
      "text/plain": [
       "0"
      ]
     },
     "execution_count": 334,
     "metadata": {},
     "output_type": "execute_result"
    }
   ],
   "source": [
    "paises_enumerados['Afghanistan']"
   ]
  },
  {
   "cell_type": "code",
   "execution_count": 335,
   "id": "3a1b65ab",
   "metadata": {},
   "outputs": [
    {
     "data": {
      "text/plain": [
       "272"
      ]
     },
     "execution_count": 335,
     "metadata": {},
     "output_type": "execute_result"
    }
   ],
   "source": [
    "len(set(data['Year']))"
   ]
  },
  {
   "cell_type": "code",
   "execution_count": 336,
   "id": "5031d04b",
   "metadata": {},
   "outputs": [],
   "source": [
    "def slicing(pais):\n",
    "    indice = paises_enumerados[pais]\n",
    "    inicio = indice * len(set(data['Year']))\n",
    "    fin = inicio + len(set(data['Year']))\n",
    "    return inicio, fin"
   ]
  },
  {
   "cell_type": "code",
   "execution_count": 337,
   "id": "c5857507",
   "metadata": {},
   "outputs": [
    {
     "data": {
      "text/plain": [
       "(0, 272)"
      ]
     },
     "execution_count": 337,
     "metadata": {},
     "output_type": "execute_result"
    }
   ],
   "source": [
    "slicing('Afghanistan')"
   ]
  },
  {
   "cell_type": "code",
   "execution_count": 338,
   "id": "17eb71c6",
   "metadata": {},
   "outputs": [],
   "source": [
    "inicio, fin = slicing('Afghanistan')"
   ]
  },
  {
   "cell_type": "code",
   "execution_count": 339,
   "id": "4cfe7d3c",
   "metadata": {},
   "outputs": [
    {
     "data": {
      "text/plain": [
       "0"
      ]
     },
     "execution_count": 339,
     "metadata": {},
     "output_type": "execute_result"
    }
   ],
   "source": [
    "inicio"
   ]
  },
  {
   "cell_type": "code",
   "execution_count": 340,
   "id": "c94262d1",
   "metadata": {},
   "outputs": [
    {
     "data": {
      "text/plain": [
       "272"
      ]
     },
     "execution_count": 340,
     "metadata": {},
     "output_type": "execute_result"
    }
   ],
   "source": [
    "fin"
   ]
  },
  {
   "cell_type": "code",
   "execution_count": 341,
   "id": "a654f475",
   "metadata": {},
   "outputs": [],
   "source": [
    "data['Country'][inicio:fin];"
   ]
  },
  {
   "cell_type": "markdown",
   "id": "1e2ce108",
   "metadata": {},
   "source": [
    "### Para mejorar nuestra función utilizando control de excepciones"
   ]
  },
  {
   "cell_type": "code",
   "execution_count": 342,
   "id": "33ca4d32",
   "metadata": {},
   "outputs": [],
   "source": [
    "def slicing(pais):\n",
    "    try:\n",
    "        indice = paises_enumerados[pais]\n",
    "        inicio = indice * len(set(data['Year']))\n",
    "        fin = inicio + len(set(data['Year']))\n",
    "        return inicio, fin\n",
    "    except:\n",
    "        print('Algo no ha ido bien')"
   ]
  },
  {
   "cell_type": "code",
   "execution_count": 343,
   "id": "ced98359",
   "metadata": {},
   "outputs": [],
   "source": [
    "def slicing(pais):\n",
    "    try:\n",
    "        indice = paises_enumerados.get(pais, 'País no encontrado')\n",
    "        #print(indice)\n",
    "        if type(indice) == str:\n",
    "            print(pais, ':',  'País no encontrado, vuelve a ingresarlo')\n",
    "            return\n",
    "        inicio = indice * len(set(data['Year']))\n",
    "        fin = inicio + len(set(data['Year']))\n",
    "        return inicio, fin\n",
    "    except:\n",
    "        print('Algo no ha ido bien')"
   ]
  },
  {
   "cell_type": "code",
   "execution_count": 344,
   "id": "a06d18f0",
   "metadata": {},
   "outputs": [
    {
     "name": "stdout",
     "output_type": "stream",
     "text": [
      "Arjentina : País no encontrado, vuelve a ingresarlo\n"
     ]
    }
   ],
   "source": [
    "slicing('Arjentina')"
   ]
  },
  {
   "cell_type": "code",
   "execution_count": 345,
   "id": "a880b759",
   "metadata": {},
   "outputs": [
    {
     "data": {
      "text/plain": [
       "(2176, 2448)"
      ]
     },
     "execution_count": 345,
     "metadata": {},
     "output_type": "execute_result"
    }
   ],
   "source": [
    "slicing('Argentina')"
   ]
  },
  {
   "cell_type": "markdown",
   "id": "703c99ea",
   "metadata": {},
   "source": [
    "### Comprobamos si 'Global' contiene el total global de todos los países"
   ]
  },
  {
   "cell_type": "markdown",
   "id": "384c85c5",
   "metadata": {},
   "source": [
    "Al parecer 'Global' contiene la suma total global (de todos los países) ya que encuentro una diferencia entre la sumatoria de los totales de todos los países y la sumatoria de 'Global' pero la misma no es significativa."
   ]
  },
  {
   "cell_type": "code",
   "execution_count": 346,
   "id": "34f0dcfd",
   "metadata": {},
   "outputs": [
    {
     "data": {
      "text/plain": [
       "(62832, 63104)"
      ]
     },
     "execution_count": 346,
     "metadata": {},
     "output_type": "execute_result"
    }
   ],
   "source": [
    "slicing('Global')"
   ]
  },
  {
   "cell_type": "code",
   "execution_count": 347,
   "id": "c47a2e98",
   "metadata": {},
   "outputs": [
    {
     "data": {
      "text/plain": [
       "1736930.029374"
      ]
     },
     "execution_count": 347,
     "metadata": {},
     "output_type": "execute_result"
    }
   ],
   "source": [
    "#Suma del total de todos los países\n",
    "\n",
    "round(sum(data['Total'][0:62832]),6)"
   ]
  },
  {
   "cell_type": "code",
   "execution_count": 348,
   "id": "4c1b7755",
   "metadata": {},
   "outputs": [
    {
     "data": {
      "text/plain": [
       "1736930.029322"
      ]
     },
     "execution_count": 348,
     "metadata": {},
     "output_type": "execute_result"
    }
   ],
   "source": [
    "#Suma del total de 'Global'\n",
    "\n",
    "round(sum(data['Total'][62832:63104]),6)"
   ]
  },
  {
   "cell_type": "markdown",
   "id": "9d8c8f65",
   "metadata": {},
   "source": [
    "### A partir de ahora que ya conozco la estructura de mi dataset, puedo comenzar a hacerle preguntas."
   ]
  },
  {
   "cell_type": "markdown",
   "id": "56adbdfb",
   "metadata": {},
   "source": [
    "#### ¿Cuál es el año de máximas emisiones de CO2 por petróleo a nivel global?\n"
   ]
  },
  {
   "cell_type": "markdown",
   "id": "3e44da30",
   "metadata": {},
   "source": [
    "Según nuestro dataset, el año que más emisiones de CO2 por petróleo se registraron a nivel global fue el 2019, donde se registró una cantidad de dióxido de carbono ascendente a 12.345,653374"
   ]
  },
  {
   "cell_type": "code",
   "execution_count": 349,
   "id": "a1c4bf35",
   "metadata": {},
   "outputs": [
    {
     "data": {
      "text/plain": [
       "(62832, 63104)"
      ]
     },
     "execution_count": 349,
     "metadata": {},
     "output_type": "execute_result"
    }
   ],
   "source": [
    "slicing('Global')"
   ]
  },
  {
   "cell_type": "code",
   "execution_count": 350,
   "id": "18072bfd",
   "metadata": {},
   "outputs": [
    {
     "data": {
      "text/plain": [
       "12345.653374"
      ]
     },
     "execution_count": 350,
     "metadata": {},
     "output_type": "execute_result"
    }
   ],
   "source": [
    "max(data['Oil'][62832:63105])"
   ]
  },
  {
   "cell_type": "code",
   "execution_count": 351,
   "id": "4094ae06",
   "metadata": {},
   "outputs": [
    {
     "data": {
      "text/plain": [
       "63101"
      ]
     },
     "execution_count": 351,
     "metadata": {},
     "output_type": "execute_result"
    }
   ],
   "source": [
    "data['Oil'].index(12345.653374)"
   ]
  },
  {
   "cell_type": "code",
   "execution_count": 352,
   "id": "f044e683",
   "metadata": {},
   "outputs": [
    {
     "data": {
      "text/plain": [
       "2019"
      ]
     },
     "execution_count": 352,
     "metadata": {},
     "output_type": "execute_result"
    }
   ],
   "source": [
    "data['Year'][63101]"
   ]
  },
  {
   "cell_type": "markdown",
   "id": "55bb644a",
   "metadata": {},
   "source": [
    "#### ¿A qué país corresponde la máx emisión de CO2 por cemento?"
   ]
  },
  {
   "cell_type": "markdown",
   "id": "5b2ccf1b",
   "metadata": {},
   "source": [
    "La máxima emisión de CO2 por fuente cemento fue de 858.23, la cual se registró en el año 2020 y fue emitido por China.\n",
    "Lo anterior coincide con que China es el país que más CO2 por fuente cemento emitió a lo largo de los años relevados(1750-2021)."
   ]
  },
  {
   "cell_type": "code",
   "execution_count": 353,
   "id": "6fcc1f2c",
   "metadata": {},
   "outputs": [
    {
     "data": {
      "text/plain": [
       "858.2326130000001"
      ]
     },
     "execution_count": 353,
     "metadata": {},
     "output_type": "execute_result"
    }
   ],
   "source": [
    "max(data['Cement'][0:62832])"
   ]
  },
  {
   "cell_type": "code",
   "execution_count": 354,
   "id": "43c65a5f",
   "metadata": {
    "scrolled": true
   },
   "outputs": [
    {
     "data": {
      "text/plain": [
       "10878"
      ]
     },
     "execution_count": 354,
     "metadata": {},
     "output_type": "execute_result"
    }
   ],
   "source": [
    "data['Cement'].index(max(data['Cement'][0:62832]))"
   ]
  },
  {
   "cell_type": "code",
   "execution_count": 355,
   "id": "a234a61d",
   "metadata": {},
   "outputs": [
    {
     "data": {
      "text/plain": [
       "'China'"
      ]
     },
     "execution_count": 355,
     "metadata": {},
     "output_type": "execute_result"
    }
   ],
   "source": [
    "data['Country'][10878]"
   ]
  },
  {
   "cell_type": "code",
   "execution_count": 356,
   "id": "b47faecd",
   "metadata": {},
   "outputs": [
    {
     "data": {
      "text/plain": [
       "2020"
      ]
     },
     "execution_count": 356,
     "metadata": {},
     "output_type": "execute_result"
    }
   ],
   "source": [
    "data['Year'][10878]"
   ]
  },
  {
   "cell_type": "code",
   "execution_count": 357,
   "id": "b03aa864",
   "metadata": {},
   "outputs": [
    {
     "name": "stdout",
     "output_type": "stream",
     "text": [
      "{'Afghanistan': 0, 'Albania': 1, 'Algeria': 2, 'Andorra': 3, 'Angola': 4, 'Anguilla': 5, 'Antarctica': 6, 'Antigua and Barbuda': 7, 'Argentina': 8, 'Armenia': 9, 'Aruba': 10, 'Australia': 11, 'Austria': 12, 'Azerbaijan': 13, 'Bahamas': 14, 'Bahrain': 15, 'Bangladesh': 16, 'Barbados': 17, 'Belarus': 18, 'Belgium': 19, 'Belize': 20, 'Benin': 21, 'Bermuda': 22, 'Bhutan': 23, 'Bonaire, Saint Eustatius and Saba': 24, 'Bosnia and Herzegovina': 25, 'Botswana': 26, 'Brazil': 27, 'British Virgin Islands': 28, 'Brunei Darussalam': 29, 'Bulgaria': 30, 'Burkina Faso': 31, 'Burundi': 32, 'Cambodia': 33, 'Canada': 34, 'Cape Verde': 35, 'Central African Republic': 36, 'Chad': 37, 'Chile': 38, 'China': 39, 'Christmas Island': 40, 'Colombia': 41, 'Comoros': 42, 'Congo': 43, 'Cook Islands': 44, 'Costa Rica': 45, \"Côte d'Ivoire\": 46, 'Croatia': 47, 'Cuba': 48, 'Curaçao': 49, 'Cyprus': 50, 'Czech Republic': 51, 'North Korea': 52, 'Democratic Republic of the Congo': 53, 'Denmark': 54, 'Djibouti': 55, 'Dominica': 56, 'Dominican Republic': 57, 'Ecuador': 58, 'Egypt': 59, 'El Salvador': 60, 'Equatorial Guinea': 61, 'Eritrea': 62, 'Estonia': 63, 'Ethiopia': 64, 'Faeroe Islands': 65, 'Micronesia (Federated States of)': 66, 'Fiji': 67, 'Finland': 68, 'Panama Canal Zone': 69, 'France': 70, 'French Equatorial Africa': 71, 'French Guiana': 72, 'French Polynesia': 73, 'French West Africa': 74, 'Gabon': 75, 'Gambia': 76, 'Georgia': 77, 'Germany': 78, 'Ghana': 79, 'Greece': 80, 'Greenland': 81, 'Grenada': 82, 'Guadeloupe': 83, 'Guatemala': 84, 'Guinea': 85, 'Guinea-Bissau': 86, 'Guyana': 87, 'Haiti': 88, 'Honduras': 89, 'Hong Kong': 90, 'Hungary': 91, 'Iceland': 92, 'India': 93, 'Indonesia': 94, 'Iraq': 95, 'Ireland': 96, 'Iran': 97, 'Israel': 98, 'Italy': 99, 'Jamaica': 100, 'Japan': 101, 'Jordan': 102, 'Kazakhstan': 103, 'Kenya': 104, 'Kiribati': 105, 'Kosovo': 106, 'Kuwait': 107, 'Kuwaiti Oil Fires': 108, 'Kyrgyzstan': 109, 'Laos': 110, 'Latvia': 111, 'Lebanon': 112, 'Leeward Islands': 113, 'Lesotho': 114, 'Liberia': 115, 'Libya': 116, 'Liechtenstein': 117, 'Lithuania': 118, 'Luxembourg': 119, 'Macao': 120, 'North Macedonia': 121, 'Madagascar': 122, 'Malawi': 123, 'Malaysia': 124, 'Maldives': 125, 'Mali': 126, 'Malta': 127, 'Marshall Islands': 128, 'Martinique': 129, 'Mauritania': 130, 'Mauritius': 131, 'Mayotte': 132, 'Mexico': 133, 'Mongolia': 134, 'Montenegro': 135, 'Montserrat': 136, 'Morocco': 137, 'Mozambique': 138, 'Myanmar': 139, 'Namibia': 140, 'Nauru': 141, 'Nepal': 142, 'Netherlands': 143, 'New Caledonia': 144, 'New Zealand': 145, 'Nicaragua': 146, 'Niger': 147, 'Nigeria': 148, 'Niue': 149, 'Norway': 150, 'Occupied Palestinian Territory': 151, 'Oman': 152, 'Pacific Islands (Palau)': 153, 'Pakistan': 154, 'Palau': 155, 'Panama': 156, 'Papua New Guinea': 157, 'Paraguay': 158, 'Peru': 159, 'Philippines': 160, 'Bolivia': 161, 'Poland': 162, 'Portugal': 163, 'Puerto Rico': 164, 'Qatar': 165, 'Cameroon': 166, 'South Korea': 167, 'Moldova': 168, 'South Sudan': 169, 'Sudan': 170, 'Réunion': 171, 'Romania': 172, 'Russia': 173, 'Rwanda': 174, 'Ryukyu Islands': 175, 'Saint Helena': 176, 'Saint Lucia': 177, 'Sint Maarten (Dutch part)': 178, 'Samoa': 179, 'Sao Tome and Principe': 180, 'Saudi Arabia': 181, 'Senegal': 182, 'Serbia': 183, 'Seychelles': 184, 'Sierra Leone': 185, 'Singapore': 186, 'Slovakia': 187, 'Slovenia': 188, 'Solomon Islands': 189, 'Somalia': 190, 'South Africa': 191, 'Spain': 192, 'Sri Lanka': 193, 'Saint Kitts and Nevis': 194, 'St. Kitts-Nevis-Anguilla': 195, 'Saint Pierre and Miquelon': 196, 'Saint Vincent and the Grenadines': 197, 'Suriname': 198, 'Swaziland': 199, 'Sweden': 200, 'Switzerland': 201, 'Syria': 202, 'Taiwan': 203, 'Tajikistan': 204, 'Thailand': 205, 'Timor-Leste': 206, 'Togo': 207, 'Tonga': 208, 'Trinidad and Tobago': 209, 'Tunisia': 210, 'Turkey': 211, 'Turkmenistan': 212, 'Turks and Caicos Islands': 213, 'Tuvalu': 214, 'Uganda': 215, 'Ukraine': 216, 'United Arab Emirates': 217, 'United Kingdom': 218, 'Tanzania': 219, 'USA': 220, 'Uruguay': 221, 'Uzbekistan': 222, 'Vanuatu': 223, 'Venezuela': 224, 'Viet Nam': 225, 'Wallis and Futuna Islands': 226, 'Yemen': 227, 'Zambia': 228, 'Zimbabwe': 229, 'International Transport': 230}\n"
     ]
    }
   ],
   "source": [
    "#Creo un diccionario llamado 'solo_paises_reales' que no contenga a 'Global'\n",
    "\n",
    "solo_paises_reales={}\n",
    "\n",
    "paises_unicos[0:231]\n",
    "\n",
    "for key in paises_enumerados.keys():\n",
    "    if key in paises_unicos[0:231]:\n",
    "        solo_paises_reales[key] = paises_enumerados[key]\n",
    "        \n",
    "print(solo_paises_reales)"
   ]
  },
  {
   "cell_type": "code",
   "execution_count": 358,
   "id": "331e7d26",
   "metadata": {},
   "outputs": [
    {
     "name": "stdout",
     "output_type": "stream",
     "text": [
      "15657.812105\n"
     ]
    }
   ],
   "source": [
    "#Cálculo de la máxima emisión total de CO2 por fuente cemento por todos los años del país\n",
    "\n",
    "y = 0\n",
    "\n",
    "for i in solo_paises_reales.keys():\n",
    "    inicio, fin = slicing(i)\n",
    "    x = sum(data['Cement'][inicio:fin])\n",
    "    if y <= x:\n",
    "        y = x\n",
    "        \n",
    "print(y)"
   ]
  },
  {
   "cell_type": "code",
   "execution_count": 359,
   "id": "cec04108",
   "metadata": {},
   "outputs": [
    {
     "data": {
      "text/plain": [
       "(10608, 10880)"
      ]
     },
     "execution_count": 359,
     "metadata": {},
     "output_type": "execute_result"
    }
   ],
   "source": [
    "slicing('China')"
   ]
  },
  {
   "cell_type": "code",
   "execution_count": 360,
   "id": "7ed58d03",
   "metadata": {},
   "outputs": [
    {
     "data": {
      "text/plain": [
       "15657.812105"
      ]
     },
     "execution_count": 360,
     "metadata": {},
     "output_type": "execute_result"
    }
   ],
   "source": [
    "sum(data['Cement'][10608:10880])"
   ]
  },
  {
   "cell_type": "markdown",
   "id": "8f50e357",
   "metadata": {},
   "source": [
    "#### ¿Cuál es la mayor fuente de emisión de CO2 en Noruega?"
   ]
  },
  {
   "cell_type": "markdown",
   "id": "9f4439c3",
   "metadata": {},
   "source": [
    "La mayor fuente de emisión de CO2 en Noruega es el petróleo"
   ]
  },
  {
   "cell_type": "code",
   "execution_count": 361,
   "id": "97d3f9cf",
   "metadata": {},
   "outputs": [
    {
     "data": {
      "text/plain": [
       "(40800, 41072)"
      ]
     },
     "execution_count": 361,
     "metadata": {},
     "output_type": "execute_result"
    }
   ],
   "source": [
    "slicing('Norway')"
   ]
  },
  {
   "cell_type": "code",
   "execution_count": 362,
   "id": "a2a01661",
   "metadata": {},
   "outputs": [
    {
     "name": "stdout",
     "output_type": "stream",
     "text": [
      "Oil 1426.0431690000003\n"
     ]
    }
   ],
   "source": [
    "lista = ['Coal', 'Oil', 'Gas', 'Cement', 'Flaring', 'Other']\n",
    "\n",
    "y = 0\n",
    "\n",
    "for i in lista:\n",
    "    x = sum(data[i][40800:41072])\n",
    "    \n",
    "    if y <= x:\n",
    "        y = x\n",
    "        fuente = i\n",
    "\n",
    "print(fuente, y)"
   ]
  },
  {
   "cell_type": "markdown",
   "id": "e2c0b7b1",
   "metadata": {},
   "source": [
    "#### ¿Qué país emite más cantidad de CO2 a nivel global?"
   ]
  },
  {
   "cell_type": "markdown",
   "id": "d73d6e5c",
   "metadata": {},
   "source": [
    "A nivel global, el país que más emisión de CO2 emite es Estados Unidos (USA) con un total de 421906.8552 entre todas las fuentes evaluadas."
   ]
  },
  {
   "cell_type": "code",
   "execution_count": 363,
   "id": "21e8b69e",
   "metadata": {},
   "outputs": [
    {
     "name": "stdout",
     "output_type": "stream",
     "text": [
      "USA 421906.8552029998\n"
     ]
    }
   ],
   "source": [
    "y = 0\n",
    "\n",
    "for i in solo_paises_reales.keys():\n",
    "    inicio, fin = slicing(i)\n",
    "    x = sum(data['Total'][inicio:fin])\n",
    "    if y <= x:\n",
    "        y = x\n",
    "        pais = i\n",
    "        \n",
    "print(pais, y)"
   ]
  },
  {
   "cell_type": "markdown",
   "id": "5ee5e64d",
   "metadata": {},
   "source": [
    "#### ¿Cuánta emisión de CO2 hubo en relación al consumo de cada tipo de combustible utilizado?"
   ]
  },
  {
   "cell_type": "code",
   "execution_count": 364,
   "id": "d58bc71c",
   "metadata": {},
   "outputs": [
    {
     "name": "stdout",
     "output_type": "stream",
     "text": [
      "Coal 1608380.107028\n",
      "Oil 1210953.473244\n",
      "Gas 508115.642304\n",
      "Cement 90133.850535\n",
      "Flaring 36908.571144\n",
      "Other 17741.24943\n"
     ]
    }
   ],
   "source": [
    "lista = ['Coal', 'Oil', 'Gas', 'Cement', 'Flaring', 'Other']\n",
    "\n",
    "for i in lista:\n",
    "    x = round(sum(data[i]),6)\n",
    "    print(i,x)"
   ]
  },
  {
   "cell_type": "markdown",
   "id": "9523c5c7",
   "metadata": {},
   "source": [
    "#### ¿Cuál es el país que más CO2 emite por persona?"
   ]
  },
  {
   "cell_type": "markdown",
   "id": "6bfc86c6",
   "metadata": {},
   "source": [
    "En relación a la cantidad de habitante, el país que más CO2 emite es la isla de Sint Maarten. "
   ]
  },
  {
   "cell_type": "code",
   "execution_count": 365,
   "id": "e4bd5a4e",
   "metadata": {},
   "outputs": [
    {
     "name": "stdout",
     "output_type": "stream",
     "text": [
      "Sint Maarten (Dutch part) 11574.339868999994\n"
     ]
    }
   ],
   "source": [
    "y = 0\n",
    "\n",
    "for i in solo_paises_reales.keys():\n",
    "    inicio, fin = slicing(i)\n",
    "    x = sum(data['Per Capita'][inicio:fin])\n",
    "    if y <= x:\n",
    "        y = x\n",
    "        pais = i\n",
    "        \n",
    "print(pais, y)"
   ]
  }
 ],
 "metadata": {
  "kernelspec": {
   "display_name": "Python 3 (ipykernel)",
   "language": "python",
   "name": "python3"
  },
  "language_info": {
   "codemirror_mode": {
    "name": "ipython",
    "version": 3
   },
   "file_extension": ".py",
   "mimetype": "text/x-python",
   "name": "python",
   "nbconvert_exporter": "python",
   "pygments_lexer": "ipython3",
   "version": "3.10.9"
  }
 },
 "nbformat": 4,
 "nbformat_minor": 5
}
