{
 "cells": [
  {
   "cell_type": "markdown",
   "id": "02fb3549",
   "metadata": {},
   "source": [
    " ## 💨🌏 Analysis of CO2 Production by Country"
   ]
  },
  {
   "cell_type": "code",
   "execution_count": 203,
   "id": "37da00ad",
   "metadata": {},
   "outputs": [],
   "source": [
    "import json"
   ]
  },
  {
   "cell_type": "code",
   "execution_count": 204,
   "id": "e9230cf6",
   "metadata": {},
   "outputs": [],
   "source": [
    "with open('Data_CO2_Proyecto_1.json') as f:\n",
    "    data = json.load(f)\n",
    "    \n",
    "data;"
   ]
  },
  {
   "cell_type": "markdown",
   "id": "5ccd1d63",
   "metadata": {},
   "source": [
    "###  Data exploration"
   ]
  },
  {
   "cell_type": "code",
   "execution_count": 205,
   "id": "f2b9e9fc",
   "metadata": {},
   "outputs": [
    {
     "data": {
      "text/plain": [
       "dict"
      ]
     },
     "execution_count": 205,
     "metadata": {},
     "output_type": "execute_result"
    }
   ],
   "source": [
    "type(data)"
   ]
  },
  {
   "cell_type": "code",
   "execution_count": 206,
   "id": "47f587f5",
   "metadata": {},
   "outputs": [
    {
     "data": {
      "text/plain": [
       "list"
      ]
     },
     "execution_count": 206,
     "metadata": {},
     "output_type": "execute_result"
    }
   ],
   "source": [
    "type(data['Country'])"
   ]
  },
  {
   "cell_type": "code",
   "execution_count": 207,
   "id": "ac166baa",
   "metadata": {},
   "outputs": [
    {
     "data": {
      "text/plain": [
       "dict_keys(['Country', 'ISO 3166-1 alpha-3', 'Year', 'Total', 'Coal', 'Oil', 'Gas', 'Cement', 'Flaring', 'Other', 'Per Capita'])"
      ]
     },
     "execution_count": 207,
     "metadata": {},
     "output_type": "execute_result"
    }
   ],
   "source": [
    "data.keys()"
   ]
  },
  {
   "cell_type": "code",
   "execution_count": 208,
   "id": "b695b07c",
   "metadata": {},
   "outputs": [
    {
     "data": {
      "text/plain": [
       "11"
      ]
     },
     "execution_count": 208,
     "metadata": {},
     "output_type": "execute_result"
    }
   ],
   "source": [
    "len(data.keys())"
   ]
  },
  {
   "cell_type": "code",
   "execution_count": 209,
   "id": "4c26ab55",
   "metadata": {},
   "outputs": [],
   "source": [
    "data.values();"
   ]
  },
  {
   "cell_type": "code",
   "execution_count": 210,
   "id": "83d45dc0",
   "metadata": {},
   "outputs": [],
   "source": [
    "data['Country'];"
   ]
  },
  {
   "cell_type": "code",
   "execution_count": 211,
   "id": "d07a0e0b",
   "metadata": {},
   "outputs": [],
   "source": [
    "data['ISO 3166-1 alpha-3'];"
   ]
  },
  {
   "cell_type": "markdown",
   "id": "1fd1b431",
   "metadata": {},
   "source": [
    "## Exploring 'Country' and 'ISO 3166-1 alpha-3' to see if they are equivalent."
   ]
  },
  {
   "cell_type": "markdown",
   "id": "8691947f",
   "metadata": {},
   "source": [
    "#### I decide to use the 'Country' column over 'Contry_Code' (ex 'ISO 3166-1 alpha-3') because 'Country_Code' has fewer unique values and I have located several zeros that correspond to the countries \"French Equatorial Africa\", \"French West Africa\", \"Kuwaiti Oil Fires\", \"Leeward Islands\", \"Pacific Islands (Palau)\", \"Ryukyu Islands\"."
   ]
  },
  {
   "cell_type": "code",
   "execution_count": 212,
   "id": "4f01f457",
   "metadata": {},
   "outputs": [],
   "source": [
    "data['Country_Code'] = data['ISO 3166-1 alpha-3']"
   ]
  },
  {
   "cell_type": "code",
   "execution_count": 213,
   "id": "3393d477",
   "metadata": {
    "scrolled": true
   },
   "outputs": [],
   "source": [
    "data['Country_Code'];"
   ]
  },
  {
   "cell_type": "code",
   "execution_count": 214,
   "id": "771cb191",
   "metadata": {},
   "outputs": [
    {
     "data": {
      "text/plain": [
       "dict_keys(['Country', 'ISO 3166-1 alpha-3', 'Year', 'Total', 'Coal', 'Oil', 'Gas', 'Cement', 'Flaring', 'Other', 'Per Capita', 'Country_Code'])"
      ]
     },
     "execution_count": 214,
     "metadata": {},
     "output_type": "execute_result"
    }
   ],
   "source": [
    "data.keys()"
   ]
  },
  {
   "cell_type": "code",
   "execution_count": 215,
   "id": "034f069f",
   "metadata": {},
   "outputs": [],
   "source": [
    "del data['ISO 3166-1 alpha-3']"
   ]
  },
  {
   "cell_type": "code",
   "execution_count": 216,
   "id": "cc25749d",
   "metadata": {},
   "outputs": [
    {
     "data": {
      "text/plain": [
       "dict_keys(['Country', 'Year', 'Total', 'Coal', 'Oil', 'Gas', 'Cement', 'Flaring', 'Other', 'Per Capita', 'Country_Code'])"
      ]
     },
     "execution_count": 216,
     "metadata": {},
     "output_type": "execute_result"
    }
   ],
   "source": [
    "data.keys()"
   ]
  },
  {
   "cell_type": "code",
   "execution_count": 217,
   "id": "97570c85",
   "metadata": {},
   "outputs": [],
   "source": [
    "set(data['Country']);"
   ]
  },
  {
   "cell_type": "code",
   "execution_count": 218,
   "id": "5e1835de",
   "metadata": {},
   "outputs": [],
   "source": [
    "set(data['Country_Code']);"
   ]
  },
  {
   "cell_type": "code",
   "execution_count": 219,
   "id": "826f905f",
   "metadata": {},
   "outputs": [
    {
     "data": {
      "text/plain": [
       "232"
      ]
     },
     "execution_count": 219,
     "metadata": {},
     "output_type": "execute_result"
    }
   ],
   "source": [
    "len(set(data['Country']))"
   ]
  },
  {
   "cell_type": "code",
   "execution_count": 220,
   "id": "841fc45a",
   "metadata": {},
   "outputs": [
    {
     "data": {
      "text/plain": [
       "226"
      ]
     },
     "execution_count": 220,
     "metadata": {},
     "output_type": "execute_result"
    }
   ],
   "source": [
    "len(set(data['Country_Code']))"
   ]
  },
  {
   "cell_type": "code",
   "execution_count": 221,
   "id": "fd0b3e6e",
   "metadata": {},
   "outputs": [
    {
     "data": {
      "text/plain": [
       "<zip at 0x13844ed3540>"
      ]
     },
     "execution_count": 221,
     "metadata": {},
     "output_type": "execute_result"
    }
   ],
   "source": [
    "zip(data['Country'],data['Country_Code'])"
   ]
  },
  {
   "cell_type": "code",
   "execution_count": 222,
   "id": "94b031db",
   "metadata": {},
   "outputs": [],
   "source": [
    "diccionario_paises=dict(zip(data['Country'],data['Country_Code']))"
   ]
  },
  {
   "cell_type": "code",
   "execution_count": 223,
   "id": "28f6faeb",
   "metadata": {},
   "outputs": [
    {
     "data": {
      "text/plain": [
       "232"
      ]
     },
     "execution_count": 223,
     "metadata": {},
     "output_type": "execute_result"
    }
   ],
   "source": [
    "len(dict(zip(data['Country'],data['Country_Code'])))"
   ]
  },
  {
   "cell_type": "code",
   "execution_count": 224,
   "id": "3c1c6eb4",
   "metadata": {},
   "outputs": [
    {
     "data": {
      "text/plain": [
       "<zip at 0x13844eeea00>"
      ]
     },
     "execution_count": 224,
     "metadata": {},
     "output_type": "execute_result"
    }
   ],
   "source": [
    "zip(data['Country_Code'],data['Country'])"
   ]
  },
  {
   "cell_type": "code",
   "execution_count": 225,
   "id": "5ef670dc",
   "metadata": {},
   "outputs": [],
   "source": [
    "diccionario_codigos=dict(zip(data['Country_Code'],data['Country']))"
   ]
  },
  {
   "cell_type": "code",
   "execution_count": 226,
   "id": "5269d875",
   "metadata": {},
   "outputs": [
    {
     "data": {
      "text/plain": [
       "'Ryukyu Islands'"
      ]
     },
     "execution_count": 226,
     "metadata": {},
     "output_type": "execute_result"
    }
   ],
   "source": [
    "diccionario_codigos[0]"
   ]
  },
  {
   "cell_type": "code",
   "execution_count": 227,
   "id": "72001a4e",
   "metadata": {},
   "outputs": [
    {
     "name": "stdout",
     "output_type": "stream",
     "text": [
      "French Equatorial Africa 0\n",
      "French West Africa 0\n",
      "Kuwaiti Oil Fires 0\n",
      "Leeward Islands 0\n",
      "Pacific Islands (Palau) 0\n",
      "Ryukyu Islands 0\n"
     ]
    }
   ],
   "source": [
    "for key, value in diccionario_paises.items():\n",
    "    if value == 0:\n",
    "        print(key, value)"
   ]
  },
  {
   "cell_type": "markdown",
   "id": "90ee32ff",
   "metadata": {},
   "source": [
    "## Exploring 'Year'"
   ]
  },
  {
   "cell_type": "code",
   "execution_count": 228,
   "id": "5a9c8d26",
   "metadata": {},
   "outputs": [],
   "source": [
    "data['Year'];"
   ]
  },
  {
   "cell_type": "code",
   "execution_count": 229,
   "id": "5ee9aeef",
   "metadata": {},
   "outputs": [
    {
     "data": {
      "text/plain": [
       "list"
      ]
     },
     "execution_count": 229,
     "metadata": {},
     "output_type": "execute_result"
    }
   ],
   "source": [
    "type(data['Year'])"
   ]
  },
  {
   "cell_type": "code",
   "execution_count": 230,
   "id": "9987d60f",
   "metadata": {},
   "outputs": [
    {
     "data": {
      "text/plain": [
       "63104"
      ]
     },
     "execution_count": 230,
     "metadata": {},
     "output_type": "execute_result"
    }
   ],
   "source": [
    "len((data['Year']))"
   ]
  },
  {
   "cell_type": "code",
   "execution_count": 231,
   "id": "f4cccbc6",
   "metadata": {},
   "outputs": [
    {
     "data": {
      "text/plain": [
       "272"
      ]
     },
     "execution_count": 231,
     "metadata": {},
     "output_type": "execute_result"
    }
   ],
   "source": [
    "len(set(data['Year']))"
   ]
  },
  {
   "cell_type": "code",
   "execution_count": 232,
   "id": "465c8d59",
   "metadata": {},
   "outputs": [
    {
     "data": {
      "text/plain": [
       "2021"
      ]
     },
     "execution_count": 232,
     "metadata": {},
     "output_type": "execute_result"
    }
   ],
   "source": [
    "max(set(data['Year']))"
   ]
  },
  {
   "cell_type": "code",
   "execution_count": 233,
   "id": "906387b5",
   "metadata": {},
   "outputs": [
    {
     "data": {
      "text/plain": [
       "1750"
      ]
     },
     "execution_count": 233,
     "metadata": {},
     "output_type": "execute_result"
    }
   ],
   "source": [
    "min(set(data['Year']))"
   ]
  },
  {
   "cell_type": "code",
   "execution_count": 234,
   "id": "d4de51e4",
   "metadata": {
    "scrolled": true
   },
   "outputs": [
    {
     "data": {
      "text/plain": [
       "271"
      ]
     },
     "execution_count": 234,
     "metadata": {},
     "output_type": "execute_result"
    }
   ],
   "source": [
    "max(set(data['Year']))-min(set(data['Year'])) #Son años consecutivos xq la resta quita uno de los extremos."
   ]
  },
  {
   "cell_type": "markdown",
   "id": "85fb3802",
   "metadata": {},
   "source": [
    "## Exploring the dimensions of our dataset"
   ]
  },
  {
   "cell_type": "code",
   "execution_count": 235,
   "id": "70387fde",
   "metadata": {},
   "outputs": [
    {
     "data": {
      "text/plain": [
       "63104"
      ]
     },
     "execution_count": 235,
     "metadata": {},
     "output_type": "execute_result"
    }
   ],
   "source": [
    "len((data['Country']))"
   ]
  },
  {
   "cell_type": "code",
   "execution_count": 236,
   "id": "b0f8b3a1",
   "metadata": {},
   "outputs": [
    {
     "data": {
      "text/plain": [
       "63104"
      ]
     },
     "execution_count": 236,
     "metadata": {},
     "output_type": "execute_result"
    }
   ],
   "source": [
    "len((data['Year']))"
   ]
  },
  {
   "cell_type": "code",
   "execution_count": 237,
   "id": "8d8d0655",
   "metadata": {},
   "outputs": [
    {
     "data": {
      "text/plain": [
       "232"
      ]
     },
     "execution_count": 237,
     "metadata": {},
     "output_type": "execute_result"
    }
   ],
   "source": [
    "len(set(data['Country']))"
   ]
  },
  {
   "cell_type": "code",
   "execution_count": 238,
   "id": "afb52060",
   "metadata": {},
   "outputs": [
    {
     "data": {
      "text/plain": [
       "272"
      ]
     },
     "execution_count": 238,
     "metadata": {},
     "output_type": "execute_result"
    }
   ],
   "source": [
    "len(set(data['Year']))"
   ]
  },
  {
   "cell_type": "code",
   "execution_count": 239,
   "id": "d555f5b9",
   "metadata": {},
   "outputs": [
    {
     "data": {
      "text/plain": [
       "63104"
      ]
     },
     "execution_count": 239,
     "metadata": {},
     "output_type": "execute_result"
    }
   ],
   "source": [
    "232*272"
   ]
  },
  {
   "cell_type": "code",
   "execution_count": 240,
   "id": "7a9f5224",
   "metadata": {},
   "outputs": [
    {
     "data": {
      "text/plain": [
       "11"
      ]
     },
     "execution_count": 240,
     "metadata": {},
     "output_type": "execute_result"
    }
   ],
   "source": [
    "len(data.keys())"
   ]
  },
  {
   "cell_type": "code",
   "execution_count": 241,
   "id": "25a14e56",
   "metadata": {},
   "outputs": [
    {
     "data": {
      "text/plain": [
       "694144"
      ]
     },
     "execution_count": 241,
     "metadata": {},
     "output_type": "execute_result"
    }
   ],
   "source": [
    "#Cantidad de datos en mi dataset.\n",
    "232*272*11 "
   ]
  },
  {
   "cell_type": "code",
   "execution_count": 242,
   "id": "643710f2",
   "metadata": {},
   "outputs": [
    {
     "data": {
      "text/plain": [
       "11"
      ]
     },
     "execution_count": 242,
     "metadata": {},
     "output_type": "execute_result"
    }
   ],
   "source": [
    "len(data.keys())"
   ]
  },
  {
   "cell_type": "markdown",
   "id": "75a0323a",
   "metadata": {},
   "source": [
    "## Exploring 'Total'"
   ]
  },
  {
   "cell_type": "code",
   "execution_count": 243,
   "id": "77325825",
   "metadata": {},
   "outputs": [],
   "source": [
    "data['Total'];"
   ]
  },
  {
   "cell_type": "code",
   "execution_count": 244,
   "id": "a4b377ab",
   "metadata": {},
   "outputs": [
    {
     "data": {
      "text/plain": [
       "list"
      ]
     },
     "execution_count": 244,
     "metadata": {},
     "output_type": "execute_result"
    }
   ],
   "source": [
    "type(data['Total'])"
   ]
  },
  {
   "cell_type": "code",
   "execution_count": 245,
   "id": "edbf258a",
   "metadata": {},
   "outputs": [
    {
     "data": {
      "text/plain": [
       "float"
      ]
     },
     "execution_count": 245,
     "metadata": {},
     "output_type": "execute_result"
    }
   ],
   "source": [
    "#I can say that they are not 'nulls' but true zeros.\n",
    "\n",
    "type(data['Total'][0])"
   ]
  },
  {
   "cell_type": "code",
   "execution_count": 246,
   "id": "e154760b",
   "metadata": {},
   "outputs": [
    {
     "data": {
      "text/plain": [
       "0.113227"
      ]
     },
     "execution_count": 246,
     "metadata": {},
     "output_type": "execute_result"
    }
   ],
   "source": [
    "(data['Total'][726])"
   ]
  },
  {
   "cell_type": "code",
   "execution_count": 247,
   "id": "769c3de9",
   "metadata": {},
   "outputs": [],
   "source": [
    "lista = 'Coal', 'Oil', 'Gas', 'Cement', 'Flaring', 'Other'"
   ]
  },
  {
   "cell_type": "code",
   "execution_count": 248,
   "id": "a9b0598d",
   "metadata": {
    "scrolled": true
   },
   "outputs": [
    {
     "name": "stdout",
     "output_type": "stream",
     "text": [
      "0.113227\n"
     ]
    }
   ],
   "source": [
    "lista = ['Coal', 'Oil', 'Gas', 'Cement', 'Flaring', 'Other']\n",
    "variable = 0\n",
    "\n",
    "for i in lista:\n",
    "    variable += data[i][726]\n",
    "    \n",
    "print(variable)"
   ]
  },
  {
   "cell_type": "markdown",
   "id": "2c7da1bb",
   "metadata": {},
   "source": [
    "## Exploration of the structure of 'Country'"
   ]
  },
  {
   "cell_type": "markdown",
   "id": "19559e7d",
   "metadata": {},
   "source": [
    "We want to locate the necessary values to do a slicing of each of the countries.\n",
    "\n",
    "To achieve this, we have created a list of unique countries that maintains the original ordering of the data.\n",
    "\n",
    "As well as a dictionary (enumerated_countries) that has these unique countries as keys, and as values the position that each of the countries occupies in the data.\n",
    "\n",
    "We have also detected the existence of a country called 'Global' that may contain global data (from all countries)"
   ]
  },
  {
   "cell_type": "code",
   "execution_count": 249,
   "id": "cabbdf5c",
   "metadata": {},
   "outputs": [],
   "source": [
    "paises_unicos = list(dict.fromkeys(data['Country']))"
   ]
  },
  {
   "cell_type": "code",
   "execution_count": 250,
   "id": "645dda6a",
   "metadata": {},
   "outputs": [
    {
     "data": {
      "text/plain": [
       "232"
      ]
     },
     "execution_count": 250,
     "metadata": {},
     "output_type": "execute_result"
    }
   ],
   "source": [
    "len(paises_unicos)"
   ]
  },
  {
   "cell_type": "code",
   "execution_count": 251,
   "id": "c01810b0",
   "metadata": {},
   "outputs": [
    {
     "data": {
      "text/plain": [
       "'Global'"
      ]
     },
     "execution_count": 251,
     "metadata": {},
     "output_type": "execute_result"
    }
   ],
   "source": [
    "paises_unicos[-1]"
   ]
  },
  {
   "cell_type": "code",
   "execution_count": 252,
   "id": "a56389f6",
   "metadata": {},
   "outputs": [],
   "source": [
    "paises_enumerados = zip(paises_unicos, range(272))"
   ]
  },
  {
   "cell_type": "code",
   "execution_count": 253,
   "id": "3e1085d5",
   "metadata": {},
   "outputs": [
    {
     "data": {
      "text/plain": [
       "<zip at 0x138468e6900>"
      ]
     },
     "execution_count": 253,
     "metadata": {},
     "output_type": "execute_result"
    }
   ],
   "source": [
    "paises_enumerados"
   ]
  },
  {
   "cell_type": "code",
   "execution_count": null,
   "id": "fd930027",
   "metadata": {},
   "outputs": [],
   "source": [
    "paises_enumerados = dict(paises_enumerados)"
   ]
  },
  {
   "cell_type": "code",
   "execution_count": null,
   "id": "26aa68ec",
   "metadata": {},
   "outputs": [],
   "source": [
    "paises_enumerados;"
   ]
  },
  {
   "cell_type": "code",
   "execution_count": null,
   "id": "1c2c2b63",
   "metadata": {},
   "outputs": [],
   "source": [
    "paises_enumerados['USA']"
   ]
  },
  {
   "cell_type": "code",
   "execution_count": null,
   "id": "cfd9c648",
   "metadata": {},
   "outputs": [],
   "source": [
    "data['Country'][220*272]"
   ]
  },
  {
   "cell_type": "code",
   "execution_count": null,
   "id": "78e17eb0",
   "metadata": {},
   "outputs": [],
   "source": [
    "data['Country'][(220*272):((220*272)+272)];"
   ]
  },
  {
   "cell_type": "code",
   "execution_count": null,
   "id": "e3a499ef",
   "metadata": {},
   "outputs": [],
   "source": [
    "len(data['Country'][(220*272):((220*272)+272)])"
   ]
  },
  {
   "cell_type": "markdown",
   "id": "745aeb04",
   "metadata": {},
   "source": [
    "## Creating the function to calculate Slicing"
   ]
  },
  {
   "cell_type": "code",
   "execution_count": null,
   "id": "a65090d4",
   "metadata": {},
   "outputs": [],
   "source": [
    "paises_enumerados['Afghanistan']"
   ]
  },
  {
   "cell_type": "code",
   "execution_count": null,
   "id": "3a1b65ab",
   "metadata": {},
   "outputs": [],
   "source": [
    "len(set(data['Year']))"
   ]
  },
  {
   "cell_type": "code",
   "execution_count": null,
   "id": "5031d04b",
   "metadata": {},
   "outputs": [],
   "source": [
    "def slicing(pais):\n",
    "    indice = paises_enumerados[pais]\n",
    "    inicio = indice * len(set(data['Year']))\n",
    "    fin = inicio + len(set(data['Year']))\n",
    "    return inicio, fin"
   ]
  },
  {
   "cell_type": "code",
   "execution_count": null,
   "id": "c5857507",
   "metadata": {},
   "outputs": [],
   "source": [
    "slicing('Afghanistan')"
   ]
  },
  {
   "cell_type": "code",
   "execution_count": null,
   "id": "17eb71c6",
   "metadata": {},
   "outputs": [],
   "source": [
    "inicio, fin = slicing('Afghanistan')"
   ]
  },
  {
   "cell_type": "code",
   "execution_count": null,
   "id": "4cfe7d3c",
   "metadata": {},
   "outputs": [],
   "source": [
    "inicio"
   ]
  },
  {
   "cell_type": "code",
   "execution_count": null,
   "id": "c94262d1",
   "metadata": {},
   "outputs": [],
   "source": [
    "fin"
   ]
  },
  {
   "cell_type": "code",
   "execution_count": null,
   "id": "a654f475",
   "metadata": {},
   "outputs": [],
   "source": [
    "data['Country'][inicio:fin];"
   ]
  },
  {
   "cell_type": "markdown",
   "id": "1e2ce108",
   "metadata": {},
   "source": [
    "### To improve our function using exception handling"
   ]
  },
  {
   "cell_type": "code",
   "execution_count": null,
   "id": "33ca4d32",
   "metadata": {},
   "outputs": [],
   "source": [
    "def slicing(pais):\n",
    "    try:\n",
    "        indice = paises_enumerados[pais]\n",
    "        inicio = indice * len(set(data['Year']))\n",
    "        fin = inicio + len(set(data['Year']))\n",
    "        return inicio, fin\n",
    "    except:\n",
    "        print('Something was wrong')"
   ]
  },
  {
   "cell_type": "code",
   "execution_count": null,
   "id": "ced98359",
   "metadata": {},
   "outputs": [],
   "source": [
    "def slicing(pais):\n",
    "    try:\n",
    "        indice = paises_enumerados.get(pais, 'Country not found')\n",
    "        #print(indice)\n",
    "        if type(indice) == str:\n",
    "            print(pais, ':',  'Country not found, try again')\n",
    "            return\n",
    "        inicio = indice * len(set(data['Year']))\n",
    "        fin = inicio + len(set(data['Year']))\n",
    "        return inicio, fin\n",
    "    except:\n",
    "        print('Something went wrong')"
   ]
  },
  {
   "cell_type": "code",
   "execution_count": null,
   "id": "a06d18f0",
   "metadata": {},
   "outputs": [],
   "source": [
    "slicing('Arjentina')"
   ]
  },
  {
   "cell_type": "code",
   "execution_count": null,
   "id": "a880b759",
   "metadata": {},
   "outputs": [],
   "source": [
    "slicing('Argentina')"
   ]
  },
  {
   "cell_type": "markdown",
   "id": "703c99ea",
   "metadata": {},
   "source": [
    "### Comprobamos si 'Global' contiene el total global de todos los países"
   ]
  },
  {
   "cell_type": "markdown",
   "id": "384c85c5",
   "metadata": {},
   "source": [
    "Al parecer 'Global' contiene la suma total global (de todos los países) ya que encuentro una diferencia entre la sumatoria de los totales de todos los países y la sumatoria de 'Global' pero la misma no es significativa."
   ]
  },
  {
   "cell_type": "code",
   "execution_count": null,
   "id": "34f0dcfd",
   "metadata": {},
   "outputs": [],
   "source": [
    "slicing('Global')"
   ]
  },
  {
   "cell_type": "code",
   "execution_count": null,
   "id": "c47a2e98",
   "metadata": {},
   "outputs": [],
   "source": [
    "#Sum of the total of all countries\n",
    "\n",
    "round(sum(data['Total'][0:62832]),6)"
   ]
  },
  {
   "cell_type": "code",
   "execution_count": null,
   "id": "4c1b7755",
   "metadata": {},
   "outputs": [],
   "source": [
    "#Sum of the total of 'Global'\n",
    "\n",
    "round(sum(data['Total'][62832:63104]),6)"
   ]
  },
  {
   "cell_type": "markdown",
   "id": "9d8c8f65",
   "metadata": {},
   "source": [
    "### Now that I know the structure of my dataset, I can start asking questions.¶"
   ]
  },
  {
   "cell_type": "markdown",
   "id": "56adbdfb",
   "metadata": {},
   "source": [
    "#### What is the year of maximum CO2 emissions from oil globally?"
   ]
  },
  {
   "cell_type": "markdown",
   "id": "3e44da30",
   "metadata": {},
   "source": [
    "According to our dataset, the year with the highest CO2 emissions from oil recorded globally was 2019, where an amount of carbon dioxide amounting to 12,345.653374 was recorded."
   ]
  },
  {
   "cell_type": "code",
   "execution_count": null,
   "id": "a1c4bf35",
   "metadata": {},
   "outputs": [],
   "source": [
    "slicing('Global')"
   ]
  },
  {
   "cell_type": "code",
   "execution_count": null,
   "id": "18072bfd",
   "metadata": {},
   "outputs": [],
   "source": [
    "max(data['Oil'][62832:63105])"
   ]
  },
  {
   "cell_type": "code",
   "execution_count": null,
   "id": "4094ae06",
   "metadata": {},
   "outputs": [],
   "source": [
    "data['Oil'].index(12345.653374)"
   ]
  },
  {
   "cell_type": "code",
   "execution_count": null,
   "id": "f044e683",
   "metadata": {},
   "outputs": [],
   "source": [
    "data['Year'][63101]"
   ]
  },
  {
   "cell_type": "markdown",
   "id": "55bb644a",
   "metadata": {},
   "source": [
    "#### Which country has the maximum CO2 emission from cement?"
   ]
  },
  {
   "cell_type": "markdown",
   "id": "5b2ccf1b",
   "metadata": {},
   "source": [
    "The maximum CO2 emission by cement source was 858.23, which was recorded in 2020 and was emitted by China. \n",
    "\n",
    "The above coincides with China being the country that emitted the most CO2 per cement source throughout the years surveyed (1750-2021)."
   ]
  },
  {
   "cell_type": "code",
   "execution_count": null,
   "id": "6fcc1f2c",
   "metadata": {},
   "outputs": [],
   "source": [
    "max(data['Cement'][0:62832])"
   ]
  },
  {
   "cell_type": "code",
   "execution_count": null,
   "id": "43c65a5f",
   "metadata": {
    "scrolled": true
   },
   "outputs": [],
   "source": [
    "data['Cement'].index(max(data['Cement'][0:62832]))"
   ]
  },
  {
   "cell_type": "code",
   "execution_count": null,
   "id": "a234a61d",
   "metadata": {},
   "outputs": [],
   "source": [
    "data['Country'][10878]"
   ]
  },
  {
   "cell_type": "code",
   "execution_count": null,
   "id": "b47faecd",
   "metadata": {},
   "outputs": [],
   "source": [
    "data['Year'][10878]"
   ]
  },
  {
   "cell_type": "code",
   "execution_count": null,
   "id": "b03aa864",
   "metadata": {},
   "outputs": [],
   "source": [
    "#I create a dictionary called 'solo_paises_reales' that does not contain 'Global'\n",
    "\n",
    "solo_paises_reales={}\n",
    "\n",
    "paises_unicos[0:231]\n",
    "\n",
    "for key in paises_enumerados.keys():\n",
    "    if key in paises_unicos[0:231]:\n",
    "        solo_paises_reales[key] = paises_enumerados[key]\n",
    "        \n",
    "print(solo_paises_reales)"
   ]
  },
  {
   "cell_type": "code",
   "execution_count": null,
   "id": "331e7d26",
   "metadata": {},
   "outputs": [],
   "source": [
    "#Calculation of the maximum total CO2 emission by cement source for all years in the country\n",
    "\n",
    "y = 0\n",
    "\n",
    "for i in solo_paises_reales.keys():\n",
    "    inicio, fin = slicing(i)\n",
    "    x = sum(data['Cement'][inicio:fin])\n",
    "    if y <= x:\n",
    "        y = x\n",
    "        \n",
    "print(y)"
   ]
  },
  {
   "cell_type": "code",
   "execution_count": null,
   "id": "cec04108",
   "metadata": {},
   "outputs": [],
   "source": [
    "slicing('China')"
   ]
  },
  {
   "cell_type": "code",
   "execution_count": null,
   "id": "7ed58d03",
   "metadata": {},
   "outputs": [],
   "source": [
    "sum(data['Cement'][10608:10880])"
   ]
  },
  {
   "cell_type": "markdown",
   "id": "8f50e357",
   "metadata": {},
   "source": [
    "#### What is the largest source of CO2 emission in Norway?"
   ]
  },
  {
   "cell_type": "markdown",
   "id": "9f4439c3",
   "metadata": {},
   "source": [
    "The largest source of CO2 emissions in Norway is oil"
   ]
  },
  {
   "cell_type": "code",
   "execution_count": null,
   "id": "97d3f9cf",
   "metadata": {},
   "outputs": [],
   "source": [
    "slicing('Norway')"
   ]
  },
  {
   "cell_type": "code",
   "execution_count": null,
   "id": "a2a01661",
   "metadata": {},
   "outputs": [],
   "source": [
    "lista = ['Coal', 'Oil', 'Gas', 'Cement', 'Flaring', 'Other']\n",
    "\n",
    "y = 0\n",
    "\n",
    "for i in lista:\n",
    "    x = sum(data[i][40800:41072])\n",
    "    \n",
    "    if y <= x:\n",
    "        y = x\n",
    "        fuente = i\n",
    "\n",
    "print(fuente, y)"
   ]
  },
  {
   "cell_type": "markdown",
   "id": "e2c0b7b1",
   "metadata": {},
   "source": [
    "#### Which country emits the most CO2 globally?"
   ]
  },
  {
   "cell_type": "markdown",
   "id": "d73d6e5c",
   "metadata": {},
   "source": [
    "At a global level, the country that emits the most CO2 emissions is the United States (USA) with a total of 421906.8552 among all the sources evaluated."
   ]
  },
  {
   "cell_type": "code",
   "execution_count": null,
   "id": "21e8b69e",
   "metadata": {},
   "outputs": [],
   "source": [
    "y = 0\n",
    "\n",
    "for i in solo_paises_reales.keys():\n",
    "    inicio, fin = slicing(i)\n",
    "    x = sum(data['Total'][inicio:fin])\n",
    "    if y <= x:\n",
    "        y = x\n",
    "        pais = i\n",
    "        \n",
    "print(pais, y)"
   ]
  },
  {
   "cell_type": "markdown",
   "id": "5ee5e64d",
   "metadata": {},
   "source": [
    "#### How much CO2 emission was there in relation to the consumption of each type of fuel used?"
   ]
  },
  {
   "cell_type": "code",
   "execution_count": null,
   "id": "d58bc71c",
   "metadata": {},
   "outputs": [],
   "source": [
    "lista = ['Coal', 'Oil', 'Gas', 'Cement', 'Flaring', 'Other']\n",
    "\n",
    "for i in lista:\n",
    "    x = round(sum(data[i]),6)\n",
    "    print(i,x)"
   ]
  },
  {
   "cell_type": "markdown",
   "id": "9523c5c7",
   "metadata": {},
   "source": [
    "#### Which country emits the most CO2 per person?"
   ]
  },
  {
   "cell_type": "markdown",
   "id": "6bfc86c6",
   "metadata": {},
   "source": [
    "In relation to the number of inhabitants, the country that emits the most CO2 is the island of Sint Maarten."
   ]
  },
  {
   "cell_type": "code",
   "execution_count": null,
   "id": "e4bd5a4e",
   "metadata": {},
   "outputs": [],
   "source": [
    "y = 0\n",
    "\n",
    "for i in solo_paises_reales.keys():\n",
    "    inicio, fin = slicing(i)\n",
    "    x = sum(data['Per Capita'][inicio:fin])\n",
    "    if y <= x:\n",
    "        y = x\n",
    "        pais = i\n",
    "        \n",
    "print(pais, y)"
   ]
  }
 ],
 "metadata": {
  "kernelspec": {
   "display_name": "Python 3 (ipykernel)",
   "language": "python",
   "name": "python3"
  },
  "language_info": {
   "codemirror_mode": {
    "name": "ipython",
    "version": 3
   },
   "file_extension": ".py",
   "mimetype": "text/x-python",
   "name": "python",
   "nbconvert_exporter": "python",
   "pygments_lexer": "ipython3",
   "version": "3.10.9"
  }
 },
 "nbformat": 4,
 "nbformat_minor": 5
}
